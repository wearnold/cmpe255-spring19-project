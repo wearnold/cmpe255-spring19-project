{
 "cells": [
  {
   "cell_type": "code",
   "execution_count": 2,
   "metadata": {},
   "outputs": [],
   "source": [
    "import numpy as np\n",
    "from sklearn.model_selection import train_test_split\n",
    "from os import walk, getcwd\n",
    "#import h5py\n",
    "\n",
    "##All npy files are stored in the train_data folder:\n",
    "mypath = \"./train_data/\"\n",
    "txt_name_list = []\n",
    "for (dirpath, dirnames, filenames) in walk(mypath):\n",
    "    if filenames != '.DS_Store':       ##Ugh mac junk\n",
    "        txt_name_list.extend(filenames)\n",
    "        break\n"
   ]
  },
  {
   "cell_type": "code",
   "execution_count": 3,
   "metadata": {},
   "outputs": [
    {
     "data": {
      "text/plain": [
       "50"
      ]
     },
     "execution_count": 3,
     "metadata": {},
     "output_type": "execute_result"
    }
   ],
   "source": [
    "len(txt_name_list)"
   ]
  },
  {
   "cell_type": "code",
   "execution_count": 4,
   "metadata": {},
   "outputs": [],
   "source": [
    "x_train = []\n",
    "x_test = []\n",
    "y_train = []\n",
    "y_test = []\n",
    "xtotal = []\n",
    "ytotal = []\n",
    "slice_train = int(80000/len(txt_name_list))  ###Setting value to be 80000 for the final dataset\n",
    "i = 0\n",
    "seed = np.random.randint(1, 10e6)"
   ]
  },
  {
   "cell_type": "code",
   "execution_count": 5,
   "metadata": {},
   "outputs": [],
   "source": [
    "##Creates test/train split with quickdraw data\n",
    "for txt_name in txt_name_list:\n",
    "    txt_path = mypath + txt_name\n",
    "    x = np.load(txt_path)\n",
    "    x = x.astype('float32') / 255.    ##scale images\n",
    "    y = [i] * len(x)  \n",
    "    np.random.seed(seed)\n",
    "    np.random.shuffle(x)\n",
    "    np.random.seed(seed)\n",
    "    np.random.shuffle(y)\n",
    "    x = x[:slice_train]\n",
    "    y = y[:slice_train]\n",
    "    if i != 0: \n",
    "        xtotal = np.concatenate((x,xtotal), axis=0)\n",
    "        ytotal = np.concatenate((y,ytotal), axis=0)\n",
    "    else:\n",
    "        xtotal = x\n",
    "        ytotal = y\n",
    "    i += 1\n",
    "x_train, x_test, y_train, y_test = train_test_split(xtotal, ytotal, test_size=0.2, random_state=42)"
   ]
  },
  {
   "cell_type": "code",
   "execution_count": 6,
   "metadata": {},
   "outputs": [
    {
     "name": "stderr",
     "output_type": "stream",
     "text": [
      "Using TensorFlow backend.\n"
     ]
    }
   ],
   "source": [
    "import keras\n",
    "from keras.datasets import mnist\n",
    "from keras.models import Sequential\n",
    "from keras.layers import Dense, Dropout, Flatten\n",
    "from keras.layers import Conv2D, MaxPooling2D\n",
    "import numpy as np"
   ]
  },
  {
   "cell_type": "code",
   "execution_count": 7,
   "metadata": {},
   "outputs": [
    {
     "name": "stdout",
     "output_type": "stream",
     "text": [
      "x_train shape: (64000, 28, 28, 1)\n",
      "64000 train samples\n",
      "16000 test samples\n"
     ]
    }
   ],
   "source": [
    "batch_size = 128\n",
    "num_classes = 50\n",
    "epochs = 25\n",
    "\n",
    "# input image dimensions\n",
    "img_rows, img_cols = 28, 28\n",
    "\n",
    "x_train = x_train.reshape(64000,28,28,1)\n",
    "x_test = x_test.reshape(16000,28,28,1)\n",
    "\n",
    "print('x_train shape:', x_train.shape)\n",
    "print(x_train.shape[0], 'train samples')\n",
    "print(x_test.shape[0], 'test samples')\n",
    "\n",
    "# convert class vectors to binary class matrices\n",
    "y_train = keras.utils.to_categorical(y_train, num_classes)\n",
    "y_test = keras.utils.to_categorical(y_test, num_classes)"
   ]
  },
  {
   "cell_type": "code",
   "execution_count": 8,
   "metadata": {},
   "outputs": [
    {
     "name": "stdout",
     "output_type": "stream",
     "text": [
      "WARNING:tensorflow:From c:\\users\\wayne\\envs\\venv\\lib\\site-packages\\tensorflow\\python\\framework\\op_def_library.py:263: colocate_with (from tensorflow.python.framework.ops) is deprecated and will be removed in a future version.\n",
      "Instructions for updating:\n",
      "Colocations handled automatically by placer.\n",
      "WARNING:tensorflow:From c:\\users\\wayne\\envs\\venv\\lib\\site-packages\\keras\\backend\\tensorflow_backend.py:3445: calling dropout (from tensorflow.python.ops.nn_ops) with keep_prob is deprecated and will be removed in a future version.\n",
      "Instructions for updating:\n",
      "Please use `rate` instead of `keep_prob`. Rate should be set to `rate = 1 - keep_prob`.\n"
     ]
    }
   ],
   "source": [
    "model = Sequential()\n",
    "model.add(Conv2D(32, kernel_size=(3, 3),\n",
    "                 activation='relu',\n",
    "                 input_shape=(28,28,1)))\n",
    "model.add(Conv2D(64, (3, 3), activation='relu'))\n",
    "model.add(MaxPooling2D(pool_size=(2, 2)))\n",
    "model.add(Dropout(0.25))\n",
    "model.add(Flatten())\n",
    "model.add(Dense(128, activation='relu'))\n",
    "model.add(Dropout(0.5))\n",
    "model.add(Dense(num_classes, activation='softmax'))"
   ]
  },
  {
   "cell_type": "code",
   "execution_count": 9,
   "metadata": {},
   "outputs": [
    {
     "name": "stdout",
     "output_type": "stream",
     "text": [
      "WARNING:tensorflow:From c:\\users\\wayne\\envs\\venv\\lib\\site-packages\\tensorflow\\python\\ops\\math_ops.py:3066: to_int32 (from tensorflow.python.ops.math_ops) is deprecated and will be removed in a future version.\n",
      "Instructions for updating:\n",
      "Use tf.cast instead.\n",
      "Train on 64000 samples, validate on 16000 samples\n",
      "Epoch 1/25\n",
      "64000/64000 [==============================] - 301s 5ms/step - loss: 2.5427 - acc: 0.3524 - val_loss: 1.6206 - val_acc: 0.5951\n",
      "Epoch 2/25\n",
      "64000/64000 [==============================] - 311s 5ms/step - loss: 1.7895 - acc: 0.5361 - val_loss: 1.4055 - val_acc: 0.6411\n",
      "Epoch 3/25\n",
      "64000/64000 [==============================] - 294s 5ms/step - loss: 1.5845 - acc: 0.5837 - val_loss: 1.2882 - val_acc: 0.6706\n",
      "Epoch 4/25\n",
      "64000/64000 [==============================] - 297s 5ms/step - loss: 1.4539 - acc: 0.6177 - val_loss: 1.1899 - val_acc: 0.6904\n",
      "Epoch 5/25\n",
      "64000/64000 [==============================] - 320s 5ms/step - loss: 1.3552 - acc: 0.6417 - val_loss: 1.1431 - val_acc: 0.7031\n",
      "Epoch 6/25\n",
      "64000/64000 [==============================] - 228s 4ms/step - loss: 1.2742 - acc: 0.6631 - val_loss: 1.1286 - val_acc: 0.7047\n",
      "Epoch 7/25\n",
      "64000/64000 [==============================] - 214s 3ms/step - loss: 1.2114 - acc: 0.6792 - val_loss: 1.0935 - val_acc: 0.7146\n",
      "Epoch 8/25\n",
      "64000/64000 [==============================] - 230s 4ms/step - loss: 1.1572 - acc: 0.6903 - val_loss: 1.0857 - val_acc: 0.7165\n",
      "Epoch 9/25\n",
      "64000/64000 [==============================] - 228s 4ms/step - loss: 1.1083 - acc: 0.7035 - val_loss: 1.0536 - val_acc: 0.7264\n",
      "Epoch 10/25\n",
      "64000/64000 [==============================] - 235s 4ms/step - loss: 1.0665 - acc: 0.7104 - val_loss: 1.0519 - val_acc: 0.7271\n",
      "Epoch 11/25\n",
      "64000/64000 [==============================] - 207s 3ms/step - loss: 1.0365 - acc: 0.7182 - val_loss: 1.0450 - val_acc: 0.7297\n",
      "Epoch 12/25\n",
      "64000/64000 [==============================] - 234s 4ms/step - loss: 1.0002 - acc: 0.7282 - val_loss: 1.0472 - val_acc: 0.7287\n",
      "Epoch 13/25\n",
      "64000/64000 [==============================] - 231s 4ms/step - loss: 0.9735 - acc: 0.7336 - val_loss: 1.0455 - val_acc: 0.7282\n",
      "Epoch 14/25\n",
      "64000/64000 [==============================] - 222s 3ms/step - loss: 0.9502 - acc: 0.7392 - val_loss: 1.0509 - val_acc: 0.7274\n",
      "Epoch 15/25\n",
      "64000/64000 [==============================] - 202s 3ms/step - loss: 0.9173 - acc: 0.7441 - val_loss: 1.0380 - val_acc: 0.7320\n",
      "Epoch 16/25\n",
      "64000/64000 [==============================] - 205s 3ms/step - loss: 0.9106 - acc: 0.7471 - val_loss: 1.0343 - val_acc: 0.7363\n",
      "Epoch 17/25\n",
      "64000/64000 [==============================] - 207s 3ms/step - loss: 0.8863 - acc: 0.7534 - val_loss: 1.0611 - val_acc: 0.7380\n",
      "Epoch 18/25\n",
      "64000/64000 [==============================] - 210s 3ms/step - loss: 0.8735 - acc: 0.7559 - val_loss: 1.0325 - val_acc: 0.7351\n",
      "Epoch 19/25\n",
      "64000/64000 [==============================] - 204s 3ms/step - loss: 0.8485 - acc: 0.7613 - val_loss: 1.0409 - val_acc: 0.7373\n",
      "Epoch 20/25\n",
      "64000/64000 [==============================] - 205s 3ms/step - loss: 0.8469 - acc: 0.7619 - val_loss: 1.0628 - val_acc: 0.7361\n",
      "Epoch 21/25\n",
      "64000/64000 [==============================] - 201s 3ms/step - loss: 0.8368 - acc: 0.7653 - val_loss: 1.0387 - val_acc: 0.7354\n",
      "Epoch 22/25\n",
      "64000/64000 [==============================] - 204s 3ms/step - loss: 0.8239 - acc: 0.7689 - val_loss: 1.0552 - val_acc: 0.7378\n",
      "Epoch 23/25\n",
      "64000/64000 [==============================] - 220s 3ms/step - loss: 0.8186 - acc: 0.7698 - val_loss: 1.0884 - val_acc: 0.7368\n",
      "Epoch 24/25\n",
      "64000/64000 [==============================] - 214s 3ms/step - loss: 0.8032 - acc: 0.7729 - val_loss: 1.0701 - val_acc: 0.7383\n",
      "Epoch 25/25\n",
      "64000/64000 [==============================] - 206s 3ms/step - loss: 0.8026 - acc: 0.7747 - val_loss: 1.1228 - val_acc: 0.7408\n",
      "Test loss: 1.1228328614234924\n",
      "Test accuracy: 0.7408125\n"
     ]
    }
   ],
   "source": [
    "model.compile(loss=keras.losses.categorical_crossentropy,\n",
    "              optimizer=keras.optimizers.Adadelta(),\n",
    "              metrics=['accuracy'])\n",
    "\n",
    "model.fit(x_train, y_train,\n",
    "          batch_size=batch_size,\n",
    "          epochs=epochs,\n",
    "          verbose=1,\n",
    "          validation_data=(x_test, y_test))\n",
    "score = model.evaluate(x_test, y_test, verbose=0)\n",
    "print('Test loss:', score[0])\n",
    "print('Test accuracy:', score[1])"
   ]
  },
  {
   "cell_type": "code",
   "execution_count": 21,
   "metadata": {},
   "outputs": [],
   "source": [
    "model.save('quickdraw_50.h5')"
   ]
  }
 ],
 "metadata": {
  "kernelspec": {
   "display_name": "Python 3",
   "language": "python",
   "name": "python3"
  },
  "language_info": {
   "codemirror_mode": {
    "name": "ipython",
    "version": 3
   },
   "file_extension": ".py",
   "mimetype": "text/x-python",
   "name": "python",
   "nbconvert_exporter": "python",
   "pygments_lexer": "ipython3",
   "version": "3.7.1"
  }
 },
 "nbformat": 4,
 "nbformat_minor": 2
}
